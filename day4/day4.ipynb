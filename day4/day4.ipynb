{
 "cells": [
  {
   "cell_type": "markdown",
   "id": "f8f63904-d197-4079-ae06-88f0e1cabe9d",
   "metadata": {},
   "source": [
    "Day 4 - word search"
   ]
  },
  {
   "cell_type": "code",
   "execution_count": null,
   "id": "469034f4-fa5d-42b3-b0b7-93b806f51a75",
   "metadata": {},
   "outputs": [],
   "source": [
    "import numpy as np\n",
    "\n",
    "lists = []\n",
    "with open(\"input.txt\", \"r\") as file:\n",
    "    for line in file:\n",
    "        lists.append(list(line.strip()))\n",
    "array = np.array(lists)\n",
    "print(array)\n",
    "dims = array.ndim\n",
    "col_length = array.shape[0]\n",
    "row_length = array.shape[1]\n",
    "print(f\"Number of cols = {col_length}\")\n",
    "print(f\"Number of rows = {row_length}\")\n",
    "    "
   ]
  },
  {
   "cell_type": "markdown",
   "id": "5aa98691-ec80-4a0c-8d99-1c27a204357a",
   "metadata": {},
   "source": [
    "Step 1: track current index [r, c]. Increment by one for the length of the rows, then go back to 0 and increment c by one (unless you're at the length of the columns). For each index, is the value \"x\"?"
   ]
  },
  {
   "cell_type": "code",
   "execution_count": null,
   "id": "47c54ee2-6ae2-4976-ae71-57f6ba2cabb6",
   "metadata": {},
   "outputs": [],
   "source": [
    "curr_row = 0\n",
    "curr_col = 0\n",
    "\n",
    "def is_x(row, col):\n",
    "    if array[row, col] == 'X':\n",
    "        return True\n",
    "    else:\n",
    "        return False\n",
    "\n",
    "x_indices = []\n",
    "\n",
    "for i in range(0, row_length):\n",
    "    for j in range(0, col_length):\n",
    "        if is_x(i, j) == True:\n",
    "            x_indices.append([i, j])\n",
    "        \n",
    "# print(x_indices)"
   ]
  },
  {
   "cell_type": "markdown",
   "id": "84ae4ab7-4ead-41d6-b657-4674ede410eb",
   "metadata": {},
   "source": [
    "Step 2: If the value is \"x\", check the adjacent indices. Is the value of any of them \"m\"?"
   ]
  },
  {
   "cell_type": "code",
   "execution_count": null,
   "id": "540c3386-0b55-40a3-88f5-f96a55e8282b",
   "metadata": {},
   "outputs": [],
   "source": [
    "def get_next_step(curr_ind, last_ind):\n",
    "    next_step = curr_ind - last_ind\n",
    "    return curr_ind + next_step\n",
    "\n",
    "def is_valid_index(row, col):\n",
    "    if 0 <= row < row_length and 0 <= col < col_length:\n",
    "        return True\n",
    "    else:\n",
    "        return False\n",
    "\n",
    "def check_adj_indices(row, col):\n",
    "    valid_s_indices = []\n",
    "    for check_m_row in range(row - 1, row + 2):\n",
    "        for check_m_col in range(col - 1, col + 2):\n",
    "            # Step 3: If the value of an adjacent index is \"m\", which increased, \"r\" or \"c\" or both? Then increase this value(s) by one again. Check if the value of the resulting index is \"a\".\n",
    "            if (is_valid_index(check_m_row, check_m_col) and [check_m_row, check_m_col] != [row, col] and array[check_m_row,check_m_col] == \"M\"):\n",
    "                check_a_row = get_next_step(check_m_row, row)\n",
    "                check_a_col = get_next_step(check_m_col, col)\n",
    "                # print(check_a_row, check_a_col)\n",
    "                if (is_valid_index(check_a_row, check_a_col) and array[check_a_row, check_a_col] == \"A\"):\n",
    "                    # Step 4: If yes, repeat step 3 except check if the resulting index value is \"s\".\n",
    "                    check_s_row = get_next_step(check_a_row, check_m_row)\n",
    "                    check_s_col = get_next_step(check_a_col, check_m_col)\n",
    "                    if (is_valid_index(check_s_row, check_s_col) and array[check_s_row, check_s_col] == \"S\"):\n",
    "                        # print(f\"S next to A: [{check_s_row},{check_s_col}]\")\n",
    "                        # Step 5: If yes to \"s\", save this as one count of \"XMAS\". Then advance the original [r,c] and start again.\n",
    "                        valid_s_indices.append([check_s_row,check_s_col])\n",
    "    return valid_s_indices\n",
    "\n",
    "# print(array)\n",
    "valid_xmas_ss = []\n",
    "for index in x_indices:\n",
    "    row = index[0]\n",
    "    col = index[1]\n",
    "    result = check_adj_indices(row,col)\n",
    "    for item in result:\n",
    "        valid_xmas_ss.append(item)\n",
    "# print(valid_xmas_ss)\n",
    "print(len(valid_xmas_ss))\n"
   ]
  },
  {
   "cell_type": "markdown",
   "id": "5e445db0-343c-477f-ae78-2491729c8790",
   "metadata": {},
   "source": [
    "Step 3: If the value of an adjacent index is \"m\", which increased, \"r\" or \"c\" or both? Then increase this value(s) by one again. Check if the value of the resulting index is \"a\"."
   ]
  },
  {
   "cell_type": "markdown",
   "id": "f4398c90-56d5-4a45-b3e6-055e7f3ed33b",
   "metadata": {},
   "source": [
    "Step 4: If yes, repeat step 3 except check if the resulting index value is \"s\"."
   ]
  },
  {
   "cell_type": "markdown",
   "id": "07b5febc-785c-4c3f-87ea-c22780c1517e",
   "metadata": {},
   "source": [
    "Step 5: If yes to \"s\", save this as one count of \"XMAS\". Then advance the original [r,c] and start again."
   ]
  },
  {
   "cell_type": "markdown",
   "id": "8eeef484-b747-4ab3-9533-bf778f468532",
   "metadata": {},
   "source": [
    "Step 6: If no to any of the above, advance the original [r,c] and start again."
   ]
  }
 ],
 "metadata": {
  "kernelspec": {
   "display_name": "Python 3 (ipykernel)",
   "language": "python",
   "name": "python3"
  },
  "language_info": {
   "codemirror_mode": {
    "name": "ipython",
    "version": 3
   },
   "file_extension": ".py",
   "mimetype": "text/x-python",
   "name": "python",
   "nbconvert_exporter": "python",
   "pygments_lexer": "ipython3",
   "version": "3.13.1"
  }
 },
 "nbformat": 4,
 "nbformat_minor": 5
}
